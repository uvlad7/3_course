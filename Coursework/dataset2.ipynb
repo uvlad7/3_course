{
 "cells": [
  {
   "cell_type": "code",
   "execution_count": null,
   "metadata": {},
   "outputs": [],
   "source": [
    "import os\n",
    "import sys\n",
    "import progressbar\n",
    "directory = 'F:\\\\ru_open_stt_wav'\n",
    "data = directory + '\\\\dataset'\n",
    "\n",
    "\n",
    "#Функция рекурсивно ищет wav-файлы в каталоге catalog\n",
    "def find_files(catalog):\n",
    "    find_files = []\n",
    "    for root, dirs, files in os.walk(catalog):\n",
    "        find_files += [os.path.join(root, name[0:-4]) for name in files if name.endswith('.wav')]\n",
    "    return find_files\n",
    "\n",
    "#Получаем список файлов в переменную files\n",
    "files = find_files(directory)\n",
    "print('Number of files: %s' %len(files))\n",
    "if not os.path.exists(data):\n",
    "    os.makedirs(data)\n",
    "transcriptions = open(data + \"\\\\car.transcription\", \"w\", encoding=\"utf-8\")\n",
    "ids = open(data + \"\\\\car.fileids\", \"w\", encoding=\"utf-8\")\n",
    "bar = progressbar.ProgressBar(maxval=len(files), \\\n",
    "    widgets=[progressbar.Bar('=', '[', ']'), ' ', progressbar.Percentage()])\n",
    "bar.start()\n",
    "i = 0\n",
    "for file in files:\n",
    "    f = file.split('\\\\')[-1]\n",
    "    t = open(file + \".txt\", \"r\", encoding=\"utf-8\")\n",
    "    transcriptions.write(\"<s> \" + \"\\n\".join(t.read().splitlines()) +\" </s> (\" + f + \")\\n\")\n",
    "    os.system('ffmpeg -i ' + file + '.wav' + ' -ar 8000 ' + data + '\\\\' + f + '.wav')\n",
    "    ids.write(f + '\\n')\n",
    "    i+=1\n",
    "    bar.update(i)\n",
    "bar.finish()\n",
    "transcriptions.close()\n",
    "ids.close()\n",
    "print('Finish')"
   ]
  },
  {
   "cell_type": "code",
   "execution_count": null,
   "metadata": {},
   "outputs": [],
   "source": []
  }
 ],
 "metadata": {
  "kernelspec": {
   "display_name": "Python 3",
   "language": "python",
   "name": "python3"
  },
  "language_info": {
   "codemirror_mode": {
    "name": "ipython",
    "version": 3
   },
   "file_extension": ".py",
   "mimetype": "text/x-python",
   "name": "python",
   "nbconvert_exporter": "python",
   "pygments_lexer": "ipython3",
   "version": "3.7.4"
  }
 },
 "nbformat": 4,
 "nbformat_minor": 4
}
