{
 "cells": [
  {
   "cell_type": "code",
   "execution_count": null,
   "metadata": {},
   "outputs": [],
   "source": [
    "import os\n",
    "import progressbar\n",
    "directory = 'D:\\\\3 course\\\\Coursework\\\\dataset\\\\ru_open_stt_wav\\\\asr_public_phone_calls'\n",
    "\n",
    "#Получаем список файлов в переменную files\n",
    "files = list(map(lambda f: f.split(\".\")[0],os.listdir(directory + \"\\\\sounds\")))\n",
    "print(len(files))\n",
    "approved = list()\n",
    "open(directory + \"\\\\car.transcription\", \"w\", encoding=\"utf-8\").close()\n",
    "transcriptions = open(directory + \"\\\\car.transcription\", \"a\", encoding=\"utf-8\")\n",
    "bar = progressbar.ProgressBar(maxval=len(files), \\\n",
    "    widgets=[progressbar.Bar('=', '[', ']'), ' ', progressbar.Percentage()])\n",
    "bar.start()\n",
    "i = 0\n",
    "for file in files:\n",
    "    try:\n",
    "        t = open(directory + \"\\\\texts\\\\\" + file + \".txt\", \"r\", encoding=\"utf-8\")\n",
    "        approved.append(file)\n",
    "        transcriptions.write(\"<s> \" + \"\\n\".join(t.read().splitlines()) +\" </s> (\" + file + \")\\n\")\n",
    "    except:\n",
    "        print(file)\n",
    "    finally:\n",
    "        i+=1\n",
    "        bar.update(i)\n",
    "bar.finish()\n",
    "transcriptions.close()\n",
    "print(len(approved))\n",
    "ids = open(directory + \"\\\\car.fileids\", \"w\", encoding=\"utf-8\")\n",
    "ids.write(\"\\n\".join(approved) + \"\\n\")\n",
    "ids.close()"
   ]
  },
  {
   "cell_type": "code",
   "execution_count": null,
   "metadata": {},
   "outputs": [],
   "source": []
  }
 ],
 "metadata": {
  "kernelspec": {
   "display_name": "Python 3",
   "language": "python",
   "name": "python3"
  },
  "language_info": {
   "codemirror_mode": {
    "name": "ipython",
    "version": 3
   },
   "file_extension": ".py",
   "mimetype": "text/x-python",
   "name": "python",
   "nbconvert_exporter": "python",
   "pygments_lexer": "ipython3",
   "version": "3.7.4"
  }
 },
 "nbformat": 4,
 "nbformat_minor": 4
}
