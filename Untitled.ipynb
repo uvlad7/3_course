{
 "cells": [
  {
   "cell_type": "markdown",
   "metadata": {},
   "source": [
    "$$\\frac{\\partial u}{\\partial t} = 5\\frac{\\partial^2 u}{\\partial x^2} + 6t(t^2 - 2)^2 - 30x,$$\n",
    "$$u(t, 0) = (t^2 - 2)^3, \\frac{\\partial u(t, 1)}{\\partial x} = 3, u(x, 0) = x^3 - 8.$$\n",
    "$$(x, t) \\in [0,1]\\times[0,1]$$\n",
    "Точное решение:\n",
    "$$u(t, x) = (t^2 - 2)^3 + x^3$$"
   ]
  },
  {
   "cell_type": "markdown",
   "metadata": {},
   "source": [
    "Построим разностную схему:\n",
    "$$u(t+τ) = u(t) + τ u'(t) + O(τ^2);$$\n",
    "$$u'(t) = \\frac{u(t+τ) - u(t)}{τ} + O(τ);$$\n",
    "$$u(x+h) = u(x) + h u'(x) + 1/2 h^2 u''(x) +  1/6 h^3 u^{(3)}(x) + O(h^4);$$\n",
    "$$u(x-h) = u(x) - h u'(x) + 1/2 h^2 u''(x) -  1/6 h^3 u^{(3)}(x) + O(h^4);$$\n",
    "$$u''(x) = \\frac{u(x+h) - 2u(x) + u(x-h)}{h^2} + O(h^2).$$"
   ]
  },
  {
   "cell_type": "markdown",
   "metadata": {},
   "source": [
    "Разностная схема:\n",
    "$$\\frac{y_i^{k + 1} - y_i^k}{τ} = 5\\frac{y_{i+i}^k - 2y_i^k + y_{i-i}^k}{h^2} + 6t_k(t_k^2 - 2)^2 - 30x_i + O(h^2 + τ); i = \\overline{1, N - 1}, k = \\overline{0, M - 1}$$"
   ]
  },
  {
   "cell_type": "markdown",
   "metadata": {},
   "source": [
    "Аппроксимация граничного условия с $O(h)$:\n",
    "$$\\frac{u(t,1)-u(t,1-h)}{h} = 3;$$\n",
    "Аппроксимация граничного условия с $O(h^2)$:\n",
    "$$\\psi = \\frac{\\partial u(t,1)}{\\partial x} - \\frac{u(t,1)-u(t,1-h)}{h} = \\frac{\\partial u(t,1)}{\\partial x} -\\frac{1}{h}\\left(u(t,1) - u(t,1) + h\\frac{\\partial u(t,1)}{\\partial x} - \\frac{h^2}{2}\\frac{\\partial^2 u(t,1)}{\\partial x^2} - O(h^3) \\right) = \\frac{h}{2}\\frac{\\partial^2 u(t,1)}{\\partial x^2} + O(h^2);$$\n",
    "$$\\frac{u(t,1)-u(t,1-h)}{h} + \\frac{h}{2}\\frac{\\partial^2 u(t,1)}{\\partial x^2} = 3;$$\n",
    "$$\\frac{\\partial^2 u(t,1)}{\\partial x^2} = \\frac{1}{5}(\\frac{\\partial u(t, 1)}{\\partial t} - 6t(t^2 - 2)^2 + 30);$$"
   ]
  },
  {
   "cell_type": "markdown",
   "metadata": {},
   "source": [
    "$$\\frac{y_N^k - y_{N-1}^k}{h} = 3 - \\frac{h}{10}(\\frac{y_N^k - y_N^{k - 1}}{τ} - 6t_k(t_k^2 - 2)^2 + 30) + O(h^2 + hτ) , k = \\overline{1, M};$$\n",
    "Итого порядок точности: $O(\\tau + h^2)$, т. к. $hτ < h^2 + τ^2$, а при $τ \\leq 1$ и $hτ < h^2 + τ$"
   ]
  },
  {
   "cell_type": "markdown",
   "metadata": {},
   "source": [
    "Устойчивость схемы методом гармоник:\n",
    "$$\\frac{\\partial u}{\\partial t}-5\\frac{\\partial^2 u}{\\partial x^2} = 0$$\n",
    "$$\\frac{u_i^{k+1}-u_i^k}{\\tau}-5\\frac{u_{i-1}^k-2u_i^k+u_{i+1}^k}{h^2} = 0$$\n",
    "$$u_i^k \\sim q^ke^{i\\phi_ih}$$\n",
    "Подставляя получим:\n",
    "$$\\frac{q^{k+1}e^{i\\phi_i h}-q^k e^{i\\phi_i h}}{\\tau}-5\\frac{q^k e^{(i-1)\\phi_i h}-2q^k e^{i\\phi_i h}+q^k e^{(i+1)\\phi_i h}}{h^2} = \\left[ /q^k e^{i\\phi_i h} \\right] = \\frac{q-1}{\\tau} - \\frac{5}{h^2}(e^{-i\\phi h} - 2 + e^{i\\phi h}) = 0$$\n",
    "$$|q| = \\left| 1 +\\frac{5\\tau}{h^2}(e^{-i\\phi h} - 2 + e^{i\\phi h}) \\right| = \\left| 1 +\\frac{5\\tau}{h^2}(2\\cos{\\phi h} - 2) \\right|  < 1$$\n",
    "Раскрывая модуль получаем:\n",
    "$$-\\frac{1}{5} < \\frac{\\tau}{h^2}(\\cos{\\phi h} - 1) < 0$$\n",
    "Итого схема устойчива при:\n",
    "$$\\frac{\\tau}{h^2} < \\frac{1}{10}$$"
   ]
  },
  {
   "cell_type": "markdown",
   "metadata": {},
   "source": [
    "Разностная схема:\n",
    "$$y_i^{k + 1} = 5τ\\frac{y_{i+i}^k - 2y_i^k + y_{i-i}^k}{h^2} + τ(6t_k(t_k^2 - 2)^2 - 30x_i) + y_i^k; i = \\overline{1, N - 1}, k = \\overline{0, M - 1}$$\n",
    "$$y_N^{k + 1} = \\frac{10τy_{N-1}^{k + 1} + 30τh + h^2y_N^k + h^2τ(6t_{k + 1}(t_{k + 1}^2 - 2)^2 - 30)}{h^2 + 10τ}, k = \\overline{0, M - 1};$$"
   ]
  },
  {
   "cell_type": "code",
   "execution_count": null,
   "metadata": {},
   "outputs": [
    {
     "name": "stdout",
     "output_type": "stream",
     "text": [
      "N = 5.0, M = 500.0, delta = 0.04077961724988555, time = 0 seconds\n",
      "N = 50.0, M = 50000.0, delta = 0.00041363037606068076, time = 7 seconds\n"
     ]
    }
   ],
   "source": [
    "require 'pycall/import'\n",
    "include PyCall::Import\n",
    "pyfrom('matplotlib', import: :pyplot)\n",
    "pyfrom('mpl_toolkits.mplot3d', import: :axes3d)\n",
    "pyimport('numpy', as: :np)\n",
    "\n",
    "[5.0, 50.0, 100.0, 200.0].each do |n|  \n",
    "    m = 20.0*n**2 # τ = h^2/20\n",
    "    exact = Array.new(m + 1) { Array.new(n + 1) }\n",
    "    h = 1.0 / n\n",
    "    th = 1.0 / m\n",
    "    (0..m).each do |k|\n",
    "        (0..n).each do |i|\n",
    "            exact[k][i] = ((k*th)**2 - 2)**3 + (i*h)**3\n",
    "        end\n",
    "    end\n",
    "    matrix = Array.new(m + 1) { Array.new(n + 1) }\n",
    "    (0..n).each do |i|\n",
    "        matrix[0][i] = (i*h)**3 - 8\n",
    "    end\n",
    "    (1..m).each do |k|\n",
    "        matrix[k][0] =  ((k*th)**2 - 2)**3\n",
    "    end\n",
    "    t1 = Time.now.to_i\n",
    "    delta = 0.0\n",
    "    (0...m).each do |k|\n",
    "        t = k*th\n",
    "        (1...n).each do |i|\n",
    "            x = i*h\n",
    "            matrix[k + 1][i] = (matrix[k][i + 1] - 2.0*matrix[k][i] + matrix[k][i - 1])/4.0 +\n",
    "                th*(6*t*(t**2 - 2.0)**2 - 30.0*x) + matrix[k][i]\n",
    "            delta = [(matrix[k + 1][i] - exact[k + 1][i]).abs, delta].max\n",
    "        end\n",
    "        matrix[k + 1][n] = (10.0*th*matrix[k + 1][n - 1] + 30.0*th*h + h**2*matrix[k][n] +\n",
    "                h**2*th*(6*(t + th)*((t + th)**2 - 2)**2 - 30))/(h**2 * 1.5)\n",
    "        delta = [(matrix[k + 1][n] - exact[k + 1][n]).abs, delta].max\n",
    "    end\n",
    "    t2 = Time.now.to_i - t1\n",
    "    puts \"N = #{n}, M = #{m}, delta = #{delta}, time = #{t2} seconds\"\n",
    "    xs, ys = np.meshgrid(np.arange(0, 1 + h, h), np.arange(0, 1 + th, th))\n",
    "    fig = pyplot.figure\n",
    "    ax = fig.add_subplot(111, projection: '3d')\n",
    "    ax.plot_surface(xs, ys, np.array(exact), color: 'green')\n",
    "    ax.plot_wireframe(xs, ys, np.array(matrix), color: 'red')\n",
    "    ax.set_xlabel('X')\n",
    "    ax.set_ylabel('T')\n",
    "    ax.set_zlabel('Y')\n",
    "    pyplot.show\n",
    "end"
   ]
  },
  {
   "cell_type": "code",
   "execution_count": null,
   "metadata": {},
   "outputs": [],
   "source": []
  }
 ],
 "metadata": {
  "kernelspec": {
   "display_name": "Ruby 2.6.5",
   "language": "ruby",
   "name": "ruby"
  },
  "language_info": {
   "file_extension": ".rb",
   "mimetype": "application/x-ruby",
   "name": "ruby",
   "version": "2.6.5"
  }
 },
 "nbformat": 4,
 "nbformat_minor": 4
}
